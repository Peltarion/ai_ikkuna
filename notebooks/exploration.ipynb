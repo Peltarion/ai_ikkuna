{
 "cells": [
  {
   "cell_type": "code",
   "execution_count": null,
   "metadata": {
    "scrolled": false
   },
   "outputs": [],
   "source": [
    "%matplotlib notebook\n",
    "import sys; sys.path.insert(0, '..')\n",
    "from main import _load_dataset, Trainer\n",
    "from torch.utils.data import DataLoader\n",
    "import torch.nn as nn\n",
    "from supervise import *\n",
    "\n",
    "dataset_str = 'CIFAR10'\n",
    "model_str = 'AlexNetMini'\n",
    "dataset_test, *_rest = _load_dataset(dataset_str, train=False)\n",
    "test_batch_size = 100\n",
    "test_loader = DataLoader(dataset_test, batch_size=test_batch_size)\n",
    "activation_handler = MeanActivationHandler()\n",
    "\n",
    "trainer = Trainer(dataset_str, batch_size=512)\n",
    "trainer.supervise(nn.ReLU, nn.Linear)\n",
    "trainer.add_model(model_str)\n",
    "trainer.add_handlers(activation_handler)\n",
    "trainer.optimize(name='Adam')\n",
    "\n",
    "epochs = 1000\n",
    "for e in range(epochs):\n",
    "    print(f'Starting epoch {e+1:5d} of {epochs:5d}')\n",
    "    trainer.train_epoch()\n",
    "    trainer.test(test_loader)"
   ]
  }
 ],
 "metadata": {
  "kernelspec": {
   "display_name": "Python 3",
   "language": "python",
   "name": "python3"
  },
  "language_info": {
   "codemirror_mode": {
    "name": "ipython",
    "version": 3
   },
   "file_extension": ".py",
   "mimetype": "text/x-python",
   "name": "python",
   "nbconvert_exporter": "python",
   "pygments_lexer": "ipython3",
   "version": "3.6.5"
  }
 },
 "nbformat": 4,
 "nbformat_minor": 2
}
