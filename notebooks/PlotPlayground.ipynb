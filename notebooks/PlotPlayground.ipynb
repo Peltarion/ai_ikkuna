{
 "cells": [
  {
   "cell_type": "code",
   "execution_count": null,
   "metadata": {},
   "outputs": [],
   "source": [
    "%load_ext autoreload # this helps sometimes but if the ext is already loaded, autoreload seems to do nothing #usefil"
   ]
  },
  {
   "cell_type": "code",
   "execution_count": null,
   "metadata": {
    "scrolled": false
   },
   "outputs": [],
   "source": [
    "%matplotlib notebook\n",
    "%autoreload 2\n",
    "\n",
    "import sys; sys.path.insert(0, '..') # gotta add path to project root\n",
    "from main import _main\n",
    "_main('CIFAR10', 'AlexNetMini', 256, 5, 'Adam', average=10, ylims=None)"
   ]
  }
 ],
 "metadata": {
  "git": {
   "suppress_outputs": true
  },
  "kernelspec": {
   "display_name": "Python 3",
   "language": "python",
   "name": "python3"
  },
  "language_info": {
   "codemirror_mode": {
    "name": "ipython",
    "version": 3
   },
   "file_extension": ".py",
   "mimetype": "text/x-python",
   "name": "python",
   "nbconvert_exporter": "python",
   "pygments_lexer": "ipython3",
   "version": "3.6.5"
  }
 },
 "nbformat": 4,
 "nbformat_minor": 2
}
